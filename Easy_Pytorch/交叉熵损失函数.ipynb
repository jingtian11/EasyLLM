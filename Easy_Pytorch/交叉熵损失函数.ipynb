{
 "cells": [
  {
   "cell_type": "code",
   "execution_count": null,
   "metadata": {},
   "outputs": [],
   "source": [
    "import torch\n",
    "# 模拟数据：batch_size=3, vocab_size=5\n",
    "logits = torch.randn(3, 5)  # 模型输出的原始logits\n",
    "labels = torch.tensor([2, 0, 4])  # 真实标签的索引（假设是分类任务）"
   ]
  },
  {
   "cell_type": "code",
   "execution_count": null,
   "metadata": {},
   "outputs": [],
   "source": [
    "def manual_softmax(logits):\n",
    "    # 防止数值溢出，减去最大值\n",
    "    max_vals = torch.max(logits, dim=1, keepdim=True).values\n",
    "    exp_logits = torch.exp(logits - max_vals)\n",
    "    return exp_logits / torch.sum(exp_logits, dim=1, keepdim=True)\n",
    "\n",
    "def manual_cross_entropy(logits, labels):\n",
    "    # 计算softmax概率\n",
    "    probs = manual_softmax(logits)    \n",
    "    # 将标签转为one-hot编码\n",
    "    one_hot = torch.zeros_like(probs+1e-9)\n",
    "    one_hot[torch.arange(len(labels)), labels] = 1.0\n",
    "    # 计算交叉熵：-sum(p * log(q))\n",
    "    log_probs = torch.log(probs)\n",
    "    cross_entropy = -torch.sum(one_hot * log_probs) / len(labels)\n",
    "    return cross_entropy\n",
    "# 计算交叉熵\n",
    "ce_manual = manual_cross_entropy(logits, labels)\n",
    "print(f\"手动计算的交叉熵: {ce_manual:.4f}\")\n",
    "# 验证：用PyTorch内置函数对比\n",
    "ce_torch = torch.nn.functional.cross_entropy(logits, labels)\n",
    "print(f\"PyTorch的交叉熵: {ce_torch:.4f}\")"
   ]
  },
  {
   "cell_type": "code",
   "execution_count": 9,
   "metadata": {},
   "outputs": [],
   "source": []
  },
  {
   "cell_type": "code",
   "execution_count": null,
   "metadata": {},
   "outputs": [],
   "source": []
  }
 ],
 "metadata": {
  "kernelspec": {
   "display_name": "Python 3",
   "language": "python",
   "name": "python3"
  },
  "language_info": {
   "codemirror_mode": {
    "name": "ipython",
    "version": 3
   },
   "file_extension": ".py",
   "mimetype": "text/x-python",
   "name": "python",
   "nbconvert_exporter": "python",
   "pygments_lexer": "ipython3",
   "version": "3.9.6"
  }
 },
 "nbformat": 4,
 "nbformat_minor": 2
}
