{
 "cells": [
  {
   "cell_type": "code",
   "execution_count": 2,
   "metadata": {},
   "outputs": [
    {
     "name": "stdout",
     "output_type": "stream",
     "text": [
      "[1.000e+00 1.097e+03 4.035e+02       inf 2.203e+04]\n",
      "inf\n",
      "[ 0.  0.  0. nan  0.]\n"
     ]
    },
    {
     "name": "stderr",
     "output_type": "stream",
     "text": [
      "/var/folders/yf/fpk8smns2ws1yhd_1vhg7td80000gn/T/ipykernel_85253/2124872277.py:3: RuntimeWarning: overflow encountered in exp\n",
      "  eInputs = np.exp(input)\n",
      "/var/folders/yf/fpk8smns2ws1yhd_1vhg7td80000gn/T/ipykernel_85253/2124872277.py:4: RuntimeWarning: invalid value encountered in divide\n",
      "  result = eInputs/np.sum(eInputs)\n"
     ]
    }
   ],
   "source": [
    "import numpy as np\n",
    "input = np.array([0,7,6,12,10],dtype = np.float16)\n",
    "eInputs = np.exp(input)\n",
    "result = eInputs/np.sum(eInputs)\n",
    "print(eInputs)\n",
    "print(np.sum(eInputs))\n",
    "print(result)\n"
   ]
  },
  {
   "cell_type": "code",
   "execution_count": 9,
   "metadata": {},
   "outputs": [
    {
     "name": "stdout",
     "output_type": "stream",
     "text": [
      "input: [ 0.  7.  6. 12. 10.]\n",
      "emInputs: [6.139e-06 6.737e-03 2.480e-03 1.000e+00 1.354e-01]\n"
     ]
    }
   ],
   "source": [
    "import numpy as np\n",
    "input = np.array([0,7,6,12,10],dtype = np.float16)\n",
    "max_val = np.max(input)\n",
    "print(\"input:\",input)\n",
    "emInputs = np.exp(input-max_val)\n",
    "print(\"emInputs:\",emInputs)"
   ]
  },
  {
   "cell_type": "code",
   "execution_count": 10,
   "metadata": {},
   "outputs": [
    {
     "data": {
      "text/plain": [
       "array([5.364e-06, 5.886e-03, 2.167e-03, 8.735e-01, 1.183e-01],\n",
       "      dtype=float16)"
      ]
     },
     "execution_count": 10,
     "metadata": {},
     "output_type": "execute_result"
    }
   ],
   "source": [
    "result1 = emInputs/np.sum(emInputs)\n",
    "result1"
   ]
  },
  {
   "cell_type": "code",
   "execution_count": 11,
   "metadata": {},
   "outputs": [
    {
     "name": "stdout",
     "output_type": "stream",
     "text": [
      "[0.04138 0.04138 0.3057  0.3057  0.3057 ]\n",
      "[0.04138 0.04138 0.3057  0.3057  0.3057 ]\n"
     ]
    }
   ],
   "source": [
    "import numpy as np\n",
    "inputs = np.array([1, 1, 3, 3, 3], dtype=np.float16)\n",
    "\n",
    "#softmax\n",
    "eInputs = np.exp(inputs)\n",
    "result = eInputs/np.sum(eInputs)\n",
    "print(result)\n",
    "\n",
    "# save-softmax\n",
    "max_val = max(inputs)\n",
    "emInputs = np.exp(inputs-max_val)\n",
    "result1 = emInputs/np.sum(emInputs)\n",
    "print(result1)"
   ]
  },
  {
   "cell_type": "code",
   "execution_count": null,
   "metadata": {},
   "outputs": [],
   "source": [
    "# online SoftMax 2-pass\n",
    "import torch\n",
    "\n",
    "L = 8\n",
    "inputs = torch.randn(L)\n",
    "result = torch.zeros(L)\n",
    "\n",
    "m = torch.tensor(float(\"-inf\"))\n",
    "d = 0\n",
    "for i in range(L):\n",
    "    m_new = torch.max(m, inputs[i])\n",
    "    d = d * (m - m_new).exp() + (inputs[i] - m_new).exp()\n",
    "    m = m_new\n",
    "    \n",
    "for i in range(L):\n",
    "    result[i] = (inputs[i]-m).exp() / d\n",
    "    \n",
    "print('online softmax result:',result)\n",
    "print(torch.sum(result))\n"
   ]
  },
  {
   "cell_type": "code",
   "execution_count": null,
   "metadata": {},
   "outputs": [],
   "source": [
    "# save-softmax 3步骤\n",
    "max_value = torch.max(inputs)\n",
    "eX = torch.exp(inputs-max_value)\n",
    "result1 = eX/torch.sum(eX)\n",
    "print('save softmax result:', result1)\n",
    "print(torch.sum(result1))"
   ]
  }
 ],
 "metadata": {
  "kernelspec": {
   "display_name": "Python 3",
   "language": "python",
   "name": "python3"
  },
  "language_info": {
   "codemirror_mode": {
    "name": "ipython",
    "version": 3
   },
   "file_extension": ".py",
   "mimetype": "text/x-python",
   "name": "python",
   "nbconvert_exporter": "python",
   "pygments_lexer": "ipython3",
   "version": "3.9.6"
  }
 },
 "nbformat": 4,
 "nbformat_minor": 2
}
