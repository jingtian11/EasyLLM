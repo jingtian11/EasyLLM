{
 "cells": [
  {
   "cell_type": "code",
   "execution_count": 2,
   "metadata": {},
   "outputs": [],
   "source": [
    "import torch\n",
    "# 模拟数据：batch_size=3, vocab_size=5\n",
    "logits_p = torch.randn(3, 5)  # 模型输出的原始logits\n",
    "logits_q = torch.randn(3, 5)  # 模型输出的原始logits"
   ]
  },
  {
   "cell_type": "code",
   "execution_count": 3,
   "metadata": {},
   "outputs": [
    {
     "data": {
      "text/plain": [
       "tensor([[-0.4008,  0.8004, -1.5117, -0.1519, -0.5965],\n",
       "        [ 0.3182,  0.3270,  0.5626,  1.6818,  0.6393],\n",
       "        [ 1.0196,  1.1784, -1.0221,  1.2971,  0.8925]])"
      ]
     },
     "execution_count": 3,
     "metadata": {},
     "output_type": "execute_result"
    }
   ],
   "source": [
    "def KL(logits_p,logits_q):\n",
    "    eps = 1e-9\n",
    "    kl_div = logits_p*(torch.log(logits_p+eps)-torch.log(logits_q+eps))\n",
    "    return torch.sum(kl_div,dim=-1)"
   ]
  },
  {
   "cell_type": "code",
   "execution_count": null,
   "metadata": {},
   "outputs": [],
   "source": []
  }
 ],
 "metadata": {
  "kernelspec": {
   "display_name": "Python 3",
   "language": "python",
   "name": "python3"
  },
  "language_info": {
   "codemirror_mode": {
    "name": "ipython",
    "version": 3
   },
   "file_extension": ".py",
   "mimetype": "text/x-python",
   "name": "python",
   "nbconvert_exporter": "python",
   "pygments_lexer": "ipython3",
   "version": "3.9.6"
  }
 },
 "nbformat": 4,
 "nbformat_minor": 2
}
