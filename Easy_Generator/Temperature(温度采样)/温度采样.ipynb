{
 "cells": [
  {
   "cell_type": "code",
   "execution_count": 2,
   "metadata": {},
   "outputs": [],
   "source": [
    "import torch\n",
    "import torch.nn.functional as F\n",
    "\n",
    "def temperature_sampling(logits, temperature=1.0):\n",
    "    \"\"\"\n",
    "    温度采样 - 通过温度参数调整概率分布\n",
    "    \n",
    "    Args:\n",
    "        logits: 模型输出的logits，形状为 [batch_size, vocab_size]\n",
    "        temperature: 温度参数，值越大分布越平坦，值越小分布越尖锐\n",
    "    \n",
    "    Returns:\n",
    "        next_token: 采样得到的下一个token id\n",
    "    \"\"\"\n",
    "    assert temperature > 0, \"Temperature must be greater than 0\"\n",
    "    \n",
    "    # 应用温度\n",
    "    logits = logits / temperature\n",
    "    \n",
    "    # 计算概率分布\n",
    "    probs = F.softmax(logits, dim=-1)\n",
    "    \n",
    "    # 从分布中采样\n",
    "    next_token = torch.multinomial(probs, num_samples=1).squeeze(-1)\n",
    "    \n",
    "    return next_token"
   ]
  },
  {
   "cell_type": "code",
   "execution_count": 3,
   "metadata": {},
   "outputs": [
    {
     "name": "stdout",
     "output_type": "stream",
     "text": [
      "原始logits: tensor([[1., 2., 3., 4., 5.]])\n",
      "温度=1.0时采样结果: tensor([3])\n",
      "温度=0.5时采样结果: tensor([4])\n",
      "温度=2.0时采样结果: tensor([4])\n",
      "\n",
      "不同温度下的概率分布:\n",
      "温度=1.0: tensor([[0.0117, 0.0317, 0.0861, 0.2341, 0.6364]])\n",
      "温度=0.5: tensor([[2.9008e-04, 2.1434e-03, 1.5838e-02, 1.1702e-01, 8.6470e-01]])\n",
      "温度=2.0: tensor([[0.0580, 0.0956, 0.1577, 0.2600, 0.4287]])\n"
     ]
    }
   ],
   "source": [
    "\n",
    "# 使用示例\n",
    "logits = torch.tensor([[1.0, 2.0, 3.0, 4.0, 5.0]])\n",
    "print(\"原始logits:\", logits)\n",
    "\n",
    "# 使用不同的温度参数\n",
    "temp_1_0 = temperature_sampling(logits, temperature=1.0)\n",
    "temp_0_5 = temperature_sampling(logits, temperature=0.5) \n",
    "temp_2_0 = temperature_sampling(logits, temperature=2.0)\n",
    "\n",
    "print(f\"温度=1.0时采样结果: {temp_1_0}\")\n",
    "print(f\"温度=0.5时采样结果: {temp_0_5}\")\n",
    "print(f\"温度=2.0时采样结果: {temp_2_0}\")\n",
    "\n",
    "# 展示不同温度对概率分布的影响\n",
    "print(\"\\n不同温度下的概率分布:\")\n",
    "print(\"温度=1.0:\", F.softmax(logits / 1.0, dim=-1))\n",
    "print(\"温度=0.5:\", F.softmax(logits / 0.5, dim=-1))\n",
    "print(\"温度=2.0:\", F.softmax(logits / 2.0, dim=-1))"
   ]
  }
 ],
 "metadata": {
  "kernelspec": {
   "display_name": "Python 3",
   "language": "python",
   "name": "python3"
  },
  "language_info": {
   "codemirror_mode": {
    "name": "ipython",
    "version": 3
   },
   "file_extension": ".py",
   "mimetype": "text/x-python",
   "name": "python",
   "nbconvert_exporter": "python",
   "pygments_lexer": "ipython3",
   "version": "3.9.6"
  }
 },
 "nbformat": 4,
 "nbformat_minor": 2
}
