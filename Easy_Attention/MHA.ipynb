{
 "cells": [
  {
   "cell_type": "code",
   "execution_count": null,
   "metadata": {},
   "outputs": [],
   "source": [
    "import torch\n",
    "import torch.nn as nn\n",
    "import torch.nn.functional as F\n",
    "import math\n",
    "\n",
    "class LlamaMHA(nn.Module):\n",
    "    def __init__(self, dim, num_heads, head_dim=None):\n",
    "        super().__init__()\n",
    "        self.dim = dim\n",
    "        self.num_heads = num_heads\n",
    "        self.head_dim = head_dim if head_dim is not None else dim // num_heads\n",
    "        # 投影矩阵\n",
    "        self.q_proj = nn.Linear(dim, self.num_heads * self.head_dim, bias=False)\n",
    "        self.k_proj = nn.Linear(dim, self.num_heads * self.head_dim, bias=False)\n",
    "        self.v_proj = nn.Linear(dim, self.num_heads * self.head_dim, bias=False)\n",
    "        self.o_proj = nn.Linear(self.num_heads * self.head_dim, dim, bias=False)\n",
    "        self.scale = 1.0 / math.sqrt(self.head_dim)\n",
    "    def forward(self, x, attention_mask=None, cache=None):\n",
    "        batch_size, seq_len, _ = x.shape\n",
    "        # 计算查询、键、值\n",
    "        q = self.q_proj(x).view(batch_size, seq_len, self.num_heads, self.head_dim).transpose(1, 2)\n",
    "        k = self.k_proj(x).view(batch_size, seq_len, self.num_heads, self.head_dim).transpose(1, 2)\n",
    "        v = self.v_proj(x).view(batch_size, seq_len, self.num_heads, self.head_dim).transpose(1, 2)\n",
    "        # 使用KV缓存(用于推理加速)\n",
    "        if cache is not None:\n",
    "            past_k, past_v = cache\n",
    "            k = torch.cat([past_k, k], dim=2)\n",
    "            v = torch.cat([past_v, v], dim=2)\n",
    "            cache = (k, v)  \n",
    "        # 计算注意力分数\n",
    "        attn_scores = torch.matmul(q, k.transpose(-1, -2)) * self.scale\n",
    "        # 应用注意力掩码\n",
    "        if attention_mask is not None:\n",
    "            attn_scores = attn_scores + attention_mask\n",
    "        # 应用softmax获取注意力权重\n",
    "        attn_weights = F.softmax(attn_scores, dim=-1)\n",
    "        # 计算输出\n",
    "        output = torch.matmul(attn_weights, v)  # [batch_size, num_heads, seq_len, head_dim]\n",
    "        # 重塑输出并进行最终投影\n",
    "        output = output.transpose(1, 2).contiguous().view(batch_size, seq_len, -1)\n",
    "        output = self.o_proj(output)\n",
    "        if cache is not None:\n",
    "            return output, cache\n",
    "        return output"
   ]
  },
  {
   "cell_type": "code",
   "execution_count": null,
   "metadata": {},
   "outputs": [],
   "source": []
  },
  {
   "cell_type": "markdown",
   "metadata": {},
   "source": []
  }
 ],
 "metadata": {
  "language_info": {
   "name": "python"
  }
 },
 "nbformat": 4,
 "nbformat_minor": 2
}
