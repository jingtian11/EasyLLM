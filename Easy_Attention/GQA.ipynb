{
 "cells": [
  {
   "cell_type": "code",
   "execution_count": null,
   "metadata": {},
   "outputs": [],
   "source": [
    "import torch\n",
    "import torch.nn as nn\n",
    "import torch.nn.functional as F\n",
    "import math\n",
    "\n",
    "class LlamaGQA(nn.Module):\n",
    "    def __init__(self, dim, num_query_heads, num_kv_heads, head_dim=None):\n",
    "        super().__init__()\n",
    "        self.dim = dim\n",
    "        self.num_query_heads = num_query_heads\n",
    "        self.num_kv_heads = num_kv_heads\n",
    "        ## 注意这里是除以query_heads，一个query对应多个kv\n",
    "        self.head_dim = head_dim if head_dim is not None else dim // num_query_heads\n",
    "        # 每个查询头映射到特定KV头\n",
    "        self.kv_groups = num_query_heads // num_kv_heads\n",
    "        assert num_query_heads % num_kv_heads == 0, \"num_query_heads必须被num_kv_heads整除\"\n",
    "        # 投影矩阵\n",
    "        self.q_proj = nn.Linear(dim, self.num_query_heads * self.head_dim, bias=False)\n",
    "        self.k_proj = nn.Linear(dim, self.num_kv_heads * self.head_dim, bias=False)\n",
    "        self.v_proj = nn.Linear(dim, self.num_kv_heads * self.head_dim, bias=False)\n",
    "        self.o_proj = nn.Linear(self.num_query_heads * self.head_dim, dim, bias=False)\n",
    "        self.scale = 1.0 / math.sqrt(self.head_dim)\n",
    "\n",
    "    def forward(self, x, attention_mask=None, cache=None):\n",
    "        batch_size, seq_len, _ = x.shape\n",
    "        # 计算查询、键、值\n",
    "        q = self.q_proj(x).view(batch_size, seq_len, self.num_query_heads, self.head_dim)\n",
    "        k = self.k_proj(x).view(batch_size, seq_len, self.num_kv_heads, self.head_dim)\n",
    "        v = self.v_proj(x).view(batch_size, seq_len, self.num_kv_heads, self.head_dim)\n",
    "        # 变换维度以便计算注意力\n",
    "        q = q.transpose(1, 2)  # [batch_size, num_query_heads, seq_len, head_dim]\n",
    "        k = k.transpose(1, 2)  # [batch_size, num_kv_heads, seq_len, head_dim]\n",
    "        v = v.transpose(1, 2)  # [batch_size, num_kv_heads, seq_len, head_dim]\n",
    "        # 使用KV缓存\n",
    "        if cache is not None:\n",
    "            past_k, past_v = cache\n",
    "            k = torch.cat([past_k, k], dim=2)\n",
    "            v = torch.cat([past_v, v], dim=2)\n",
    "            cache = (k, v)\n",
    "        # 实现分组注意力：重复k和v以匹配查询头数\n",
    "        if self.num_query_heads > self.num_kv_heads:\n",
    "            k = k.repeat_interleave(self.kv_groups, dim=1)\n",
    "            v = v.repeat_interleave(self.kv_groups, dim=1)\n",
    "        # 计算注意力分数\n",
    "        attn_scores = torch.matmul(q, k.transpose(-1, -2)) * self.scale\n",
    "        # 应用注意力掩码\n",
    "        if attention_mask is not None:\n",
    "            attn_scores = attn_scores + attention_mask\n",
    "        # 应用softmax获取注意力权重\n",
    "        attn_weights = F.softmax(attn_scores, dim=-1)\n",
    "        # 计算输出\n",
    "        output = torch.matmul(attn_weights, v)  # [batch_size, num_query_heads, seq_len, head_dim]\n",
    "        # 重塑输出并进行最终投影\n",
    "        output = output.transpose(1, 2).contiguous().view(batch_size, seq_len, -1)\n",
    "        output = self.o_proj(output)\n",
    "        if cache is not None:\n",
    "            return output, cache\n",
    "        return output"
   ]
  },
  {
   "cell_type": "code",
   "execution_count": null,
   "metadata": {
    "vscode": {
     "languageId": "plaintext"
    }
   },
   "outputs": [],
   "source": []
  }
 ],
 "metadata": {
  "language_info": {
   "name": "python"
  }
 },
 "nbformat": 4,
 "nbformat_minor": 2
}
